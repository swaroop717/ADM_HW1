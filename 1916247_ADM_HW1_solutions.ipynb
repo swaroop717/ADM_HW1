{
 "cells": [
  {
   "cell_type": "code",
   "execution_count": 2,
   "metadata": {},
   "outputs": [],
   "source": [
    "#Python>Introduction>Say \"Hello, World!\" With Python\n",
    "print(\"Hello, World!\")"
   ]
  },
  {
   "cell_type": "code",
   "execution_count": null,
   "metadata": {},
   "outputs": [],
   "source": [
    "#Python>Introduction>Python if-else\n",
    "import math\n",
    "import os\n",
    "import random\n",
    "import re\n",
    "import sys\n",
    "\n",
    "\n",
    "\n",
    "if __name__ == '__main__':\n",
    "    n = int(input().strip())\n",
    "    if (1<=n<=100):\n",
    "        if(not n%2 ==0):\n",
    "            print(\"Weird\")\n",
    "        elif(2<=n<=5):\n",
    "            print(\"Not Weird\")\n",
    "        elif(6<=n<=20):\n",
    "            print(\"Weird\")\n",
    "        elif(n>20):\n",
    "            print(\"Not Weird\")"
   ]
  },
  {
   "cell_type": "code",
   "execution_count": null,
   "metadata": {},
   "outputs": [],
   "source": [
    "#Python>Introduction>Arithmetic operators\n",
    "if __name__ == '__main__':\n",
    "    a = int(input())\n",
    "    b = int(input())\n",
    "    print(a+b)\n",
    "    print(a-b)\n",
    "    print(a*b)"
   ]
  },
  {
   "cell_type": "code",
   "execution_count": null,
   "metadata": {},
   "outputs": [],
   "source": [
    "#Python>Introduction>Python:Division\n",
    "if __name__ == '__main__':\n",
    "    a = int(input())\n",
    "    b = int(input())\n",
    "    print(a//b)\n",
    "    print(a/b)"
   ]
  },
  {
   "cell_type": "code",
   "execution_count": null,
   "metadata": {},
   "outputs": [],
   "source": [
    "#Python>Introduction>Loops\n",
    "if __name__ == '__main__':\n",
    "    n = int(input())\n",
    "    if 1<=n<=20 :\n",
    "        for i in range(0,n):\n",
    "            print(i*i)"
   ]
  },
  {
   "cell_type": "code",
   "execution_count": null,
   "metadata": {},
   "outputs": [],
   "source": [
    "#Python>Introduction>Write a function\n",
    "def is_leap(year):\n",
    "    leap = False\n",
    "    if (year%4==0 and year%100!=0) or (year%100==0 and year%400==0):\n",
    "        leap = True\n",
    "    else:\n",
    "        leap= False\n",
    "    return leap\n",
    "\n",
    "\n",
    "year = int(input())\n",
    "print(is_leap(year))"
   ]
  },
  {
   "cell_type": "code",
   "execution_count": null,
   "metadata": {},
   "outputs": [],
   "source": [
    "#Python>Introduction>Print Function\n",
    "if __name__ == '__main__':\n",
    "    n = int(input())\n",
    "    for i in range(1,n+1):\n",
    "        print(i, end='')"
   ]
  },
  {
   "cell_type": "code",
   "execution_count": null,
   "metadata": {},
   "outputs": [],
   "source": [
    "#Python>Basic Data Types>List Comprehensions\n",
    "if __name__ == '__main__':\n",
    "    x = int(input())\n",
    "    y = int(input())\n",
    "    z = int(input())\n",
    "    n = int(input())\n",
    "    l=list()\n",
    "    for i in range(x+1):\n",
    "        for j in range(y+1):\n",
    "            for k in range(z+1):\n",
    "                if(i+j+k!=n):\n",
    "                    l.append([i,j,k])\n",
    "    print(l)"
   ]
  },
  {
   "cell_type": "code",
   "execution_count": null,
   "metadata": {},
   "outputs": [],
   "source": [
    "#Python>Basic Data Types>Find the runner-up score!\n",
    "if __name__ == '__main__':\n",
    "    n = int(input())\n",
    "    arr = map(int, input().split())\n",
    "    arr1 = list(arr)\n",
    "    arr1.sort()\n",
    "    print(arr1[(arr1.index(max(arr1)))-1])"
   ]
  },
  {
   "cell_type": "code",
   "execution_count": null,
   "metadata": {},
   "outputs": [],
   "source": [
    "#Python>Basic Data Types>Nested Lists\n",
    "if __name__ == '__main__':\n",
    "    dict={}\n",
    "    records=list()\n",
    "    for i in range(int(input())):\n",
    "        name = input()\n",
    "        score = float(input())\n",
    "        if score in dict:\n",
    "            dict[score].append(name)\n",
    "        else:\n",
    "            dict[score]=[name]\n",
    "        if score not in records:\n",
    "            records.append(score)\n",
    "    x=min(records)\n",
    "    records.remove(x)\n",
    "    m1=min(records)\n",
    "    dict[m1].sort()\n",
    "    for i in dict[m1]:\n",
    "        print(i)"
   ]
  },
  {
   "cell_type": "code",
   "execution_count": null,
   "metadata": {},
   "outputs": [],
   "source": [
    "#Python>Basic Data Types>Finding the percentage\n",
    "if __name__ == '__main__':\n",
    "    n = int(input())\n",
    "    student_marks = {}\n",
    "    for _ in range(n):\n",
    "        name, *line = input().split()\n",
    "        scores = list(map(float, line))\n",
    "        student_marks[name] = scores\n",
    "    query_name = input()\n",
    "    mark = student_marks[query_name]\n",
    "    print (format(sum(mark)/len(mark),'.2f'))"
   ]
  },
  {
   "cell_type": "code",
   "execution_count": null,
   "metadata": {},
   "outputs": [],
   "source": [
    "#Python>Basic Data Types>Lists\n",
    "if __name__ == '__main__':\n",
    "    N = int(input())\n",
    "    list = []\n",
    "    for i in range(N):\n",
    "        s=input().split()\n",
    "        for i in range(1, len(s)):\n",
    "            s[i]=int(s[i])\n",
    "        if s[0]==\"append\":\n",
    "            list.append(s[1])\n",
    "        elif s[0]==\"insert\":\n",
    "            list.insert(s[1],s[2])\n",
    "        elif s[0]==\"remove\":\n",
    "            list.remove(s[1])\n",
    "        elif s[0]==\"pop\":\n",
    "            list.pop()\n",
    "        elif s[0]==\"sort\":\n",
    "            list.sort()\n",
    "        elif s[0]==\"reverse\":\n",
    "            list.reverse()\n",
    "        elif s[0]==\"print\":\n",
    "            print(list)if __name__ == '__main__':\n",
    "    N = int(input())\n",
    "    list = []\n",
    "    for i in range(N):\n",
    "        s=input().split()\n",
    "        for i in range(1, len(s)):\n",
    "            s[i]=int(s[i])\n",
    "        if s[0]==\"append\":\n",
    "            list.append(s[1])\n",
    "        elif s[0]==\"insert\":\n",
    "            list.insert(s[1],s[2])\n",
    "        elif s[0]==\"remove\":\n",
    "            list.remove(s[1])\n",
    "        elif s[0]==\"pop\":\n",
    "            list.pop()\n",
    "        elif s[0]==\"sort\":\n",
    "            list.sort()\n",
    "        elif s[0]==\"reverse\":\n",
    "            list.reverse()\n",
    "        elif s[0]==\"print\":\n",
    "            print(list)"
   ]
  },
  {
   "cell_type": "code",
   "execution_count": null,
   "metadata": {},
   "outputs": [],
   "source": [
    "#Python>Basic Data Types>Tuples\n",
    "if __name__ == '__main__':\n",
    "    n = int(input())\n",
    "    integer_list = map(int, input().split())\n",
    "    t = tuple(integer_list)\n",
    "    print(hash(t))"
   ]
  },
  {
   "cell_type": "code",
   "execution_count": null,
   "metadata": {},
   "outputs": [],
   "source": [
    "#Python>Strings>sWAP cASE\n",
    "def swap_case(s):\n",
    "    return s.swapcase()"
   ]
  },
  {
   "cell_type": "code",
   "execution_count": null,
   "metadata": {},
   "outputs": [],
   "source": [
    "#Python>Strings>String split and join\n",
    "def split_and_join(line):\n",
    "    return '-'.join(line.split())"
   ]
  },
  {
   "cell_type": "code",
   "execution_count": null,
   "metadata": {},
   "outputs": [],
   "source": [
    "#Python>Strings>What's your name?\n",
    "def print_full_name(a, b):\n",
    "    print(\"Hello \"+a+\" \"+b+\"! You just delved into python.\")"
   ]
  },
  {
   "cell_type": "code",
   "execution_count": null,
   "metadata": {},
   "outputs": [],
   "source": [
    "#Python>Strings>Mutations\n",
    "def mutate_string(string, position, character):\n",
    "    l = list(string)\n",
    "    l[position] = character\n",
    "    return ''.join(l)"
   ]
  },
  {
   "cell_type": "code",
   "execution_count": null,
   "metadata": {},
   "outputs": [],
   "source": [
    "#Python>Strings>Find a string\n",
    "def count_substring(string, sub_string):\n",
    "    l1=len(string)\n",
    "    l2=len(sub_string)\n",
    "    ctr=0\n",
    "    for i in range(l1-l2+1):\n",
    "        if (string[i:(i+l2)]==sub_string):\n",
    "            ctr=ctr+1\n",
    "    return ctr"
   ]
  },
  {
   "cell_type": "code",
   "execution_count": null,
   "metadata": {},
   "outputs": [],
   "source": [
    "#Python>Strings>String Validators\n",
    "if __name__ == '__main__':\n",
    "    s= input()\n",
    "    print (any([i.isalnum() for i in s]))\n",
    "    print (any([i.isalpha() for i in s]))\n",
    "    print (any([i.isdigit() for i in s]))\n",
    "    print (any([i.islower() for i in s]))\n",
    "    print (any([i.isupper() for i in s]))"
   ]
  },
  {
   "cell_type": "code",
   "execution_count": null,
   "metadata": {},
   "outputs": [],
   "source": [
    "#Python>Strings>Text Alignment\n",
    "thickness = int(input())\n",
    "c = 'H'\n",
    "for i in range(thickness):\n",
    "    print((c*i).rjust(thickness-1)+c+(c*i).ljust(thickness-1))\n",
    "\n",
    "for i in range(thickness+1):\n",
    "    print((c*thickness).center(thickness*2)+(c*thickness).center(thickness*6))\n",
    "\n",
    "for i in range((thickness+1)//2):\n",
    "    print((c*thickness*5).center(thickness*6))\n",
    "\n",
    "for i in range(thickness+1):\n",
    "    print((c*thickness).center(thickness*2)+(c*thickness).center(thickness*6))\n",
    "\n",
    "for i in range(thickness):\n",
    "    print(((c*(thickness-i-1)).rjust(thickness)+c+(c*(thickness-i-1)).ljust(thickness)).rjust(thickness*6))"
   ]
  },
  {
   "cell_type": "code",
   "execution_count": null,
   "metadata": {},
   "outputs": [],
   "source": [
    "#Python>Strings>Text Wrap\n",
    "def wrap(string, max_width):\n",
    "    return textwrap.fill(string, max_width)"
   ]
  },
  {
   "cell_type": "code",
   "execution_count": null,
   "metadata": {},
   "outputs": [],
   "source": [
    "#Python>Strings>Designer door mat\n",
    "n,m= map(int, input().split())\n",
    "s1=\".|.\"\n",
    "s2=\"WELCOME\"\n",
    "for i in range(n//2):\n",
    "    print((s1*((i*2)+1)).center(m, \"-\"))\n",
    "print(s2.center(m,\"-\"))\n",
    "for i in range(n//2-1,-1,-1):\n",
    "    print((s1*((i*2)+1)).center(m,\"-\"))"
   ]
  },
  {
   "cell_type": "code",
   "execution_count": null,
   "metadata": {},
   "outputs": [],
   "source": [
    "#Python>Strings>String Formatting\n",
    "def print_formatted(number):\n",
    "    if (1<=number<=99):\n",
    "        width = len(bin(number)[2:])\n",
    "        for i in range(1,number+1):\n",
    "            decimal_value = str(i).rjust(width)\n",
    "            octal_value = oct(i)[2:].rjust(width)\n",
    "            hexadecimal_value = hex(i)[2:].upper().rjust(width)\n",
    "            binary_value = bin(i)[2:].rjust(width)\n",
    "            print(decimal_value,octal_value,hexadecimal_value,binary_value)"
   ]
  },
  {
   "cell_type": "code",
   "execution_count": null,
   "metadata": {},
   "outputs": [],
   "source": [
    "#Python>Strings>Capitalize!\n",
    "import string\n",
    "def solve(s):\n",
    "    return string.capwords(s, ' ')"
   ]
  },
  {
   "cell_type": "code",
   "execution_count": null,
   "metadata": {},
   "outputs": [],
   "source": [
    "#Python>Sets>Introduction to Sets\n",
    "def average(array):\n",
    "    arr1= set(array)\n",
    "    return sum(arr1)/len(arr1)"
   ]
  },
  {
   "cell_type": "code",
   "execution_count": null,
   "metadata": {},
   "outputs": [],
   "source": [
    "#Python>Sets>No Idea!\n",
    "n,m=map(int,input().split())\n",
    "arr=list(map(int,input().split()))\n",
    "A=set(map(int,input().split()))\n",
    "B=set(map(int,input().split()))\n",
    "print(sum((i in A) - (i in B) for i in arr))"
   ]
  },
  {
   "cell_type": "code",
   "execution_count": null,
   "metadata": {},
   "outputs": [],
   "source": [
    "#Python>Sets>Symmetric Difference\n",
    "m = int(input())\n",
    "set1= set(map(int, input().split()))\n",
    "n= int(input())\n",
    "set2= set(map(int, input().split()))\n",
    "set3=set1.union(set2)\n",
    "l=[]\n",
    "for i in set3:\n",
    "    if i in set1 and i in set2:\n",
    "        pass\n",
    "    else:\n",
    "        l.append(i)\n",
    "l.sort()\n",
    "for i in l:\n",
    "    print(i)"
   ]
  },
  {
   "cell_type": "code",
   "execution_count": null,
   "metadata": {},
   "outputs": [],
   "source": [
    "#Python>Sets>Set.add()\n",
    "n = int(input())\n",
    "s = set()\n",
    "for i in range(n):\n",
    "    s.add(input())\n",
    "print (len(s))"
   ]
  },
  {
   "cell_type": "code",
   "execution_count": null,
   "metadata": {},
   "outputs": [],
   "source": [
    "#Python>Sets>Set .discard(), .remove() & .pop()\n",
    "n=int(input())\n",
    "s = set(map(int,input().split()))\n",
    "N=int(input())\n",
    "for i in range(N) :\n",
    "    choice=input().split()\n",
    "    if choice[0]==\"pop\" :\n",
    "        s.pop()\n",
    "    elif choice[0]==\"remove\" :\n",
    "        s.remove(int(choice[1]))\n",
    "    elif choice[0]==\"discard\" :\n",
    "        s.discard(int(choice[1]))\n",
    "print (sum(s))"
   ]
  },
  {
   "cell_type": "code",
   "execution_count": null,
   "metadata": {},
   "outputs": [],
   "source": [
    "#Python>Sets>Set.union() Operation\n",
    "english = int(input())\n",
    "rollenglish = set(map(int,input().split()))\n",
    "french = int(input())\n",
    "rollfrench = set(map(int,input().split()))\n",
    "print (len(rollenglish.union(rollfrench)))"
   ]
  },
  {
   "cell_type": "code",
   "execution_count": null,
   "metadata": {},
   "outputs": [],
   "source": [
    "#Python>Sets>Set.intersection() Operation\n",
    "english = int(input())\n",
    "rollenglish = set(map(int,input().split()))\n",
    "french = int(input())\n",
    "rollfrench = set(map(int,input().split()))\n",
    "print (len(rollenglish.intersection(rollfrench)))"
   ]
  },
  {
   "cell_type": "code",
   "execution_count": null,
   "metadata": {},
   "outputs": [],
   "source": [
    "#Python>Sets>Set.difference() Operation\n",
    "english = int(input())\n",
    "rollenglish = set(map(int,input().split()))\n",
    "french = int(input())\n",
    "rollfrench = set(map(int,input().split()))\n",
    "print (len(rollenglish.difference(rollfrench)))"
   ]
  },
  {
   "cell_type": "code",
   "execution_count": null,
   "metadata": {},
   "outputs": [],
   "source": [
    "#Python>Sets>Set.symmetric_difference() Operation\n",
    "english = int(input())\n",
    "rollenglish = set(map(int,input().split()))\n",
    "french = int(input())\n",
    "rollfrench = set(map(int,input().split()))\n",
    "print (len(rollenglish.symmetric_difference(rollfrench)))"
   ]
  },
  {
   "cell_type": "code",
   "execution_count": null,
   "metadata": {},
   "outputs": [],
   "source": [
    "#Python>Sets>Set Mutations\n",
    "a = int(input())\n",
    "s1 = set(map(int, input().split()))\n",
    "N = int(input())\n",
    "for i in range(N):\n",
    "    cmd, a1 = input().split()\n",
    "    s2 = set(map(int, input().split()))\n",
    "    if(cmd == \"intersection_update\"):\n",
    "        s1.intersection_update(s2)\n",
    "    elif(cmd == \"update\"):\n",
    "        s1.update(s2)\n",
    "    elif(cmd == \"symmetric_difference_update\"):\n",
    "        s1.symmetric_difference_update(s2)\n",
    "    elif(cmd == \"difference_update\"):\n",
    "        s1.difference_update(s2)\n",
    "print(sum(s1))"
   ]
  },
  {
   "cell_type": "code",
   "execution_count": null,
   "metadata": {},
   "outputs": [],
   "source": [
    "#Python>Sets>The Captain's Room\n",
    "d=int(input())\n",
    "a=list(map(int, input().split()))\n",
    "s1=set()\n",
    "s2=set()\n",
    "for i in a:\n",
    "    if  i in s1:\n",
    "        s2.add(i)\n",
    "    else:\n",
    "        s1.add(i)\n",
    "s3=s1.difference(s2)\n",
    "print(list(s3)[0])"
   ]
  },
  {
   "cell_type": "code",
   "execution_count": null,
   "metadata": {},
   "outputs": [],
   "source": [
    "#Python>Sets>Check Subset\n",
    "for i in range(int(input())):\n",
    "    x, a = input(), set(map(int, input().split()))\n",
    "    y, b = input(), set(map(int, input().split()))\n",
    "    print(a.issubset(b))"
   ]
  },
  {
   "cell_type": "code",
   "execution_count": null,
   "metadata": {},
   "outputs": [],
   "source": [
    "#Python>Sets>Check Strict Superset\n",
    "a=set(map(int, input().split()))\n",
    "n=int(input())\n",
    "f=0\n",
    "for i in range(n):\n",
    "    b=set(map(int, input().split()))\n",
    "    if len(b.difference(a))!=0:\n",
    "        f=1\n",
    "    else:\n",
    "        if len(b)==len(a):\n",
    "            f=1\n",
    "if f==0:\n",
    "    print (\"True\")\n",
    "else:\n",
    "    print(\"False\")"
   ]
  },
  {
   "cell_type": "code",
   "execution_count": null,
   "metadata": {},
   "outputs": [],
   "source": [
    "#Python>Collections>collections.Counter()\n",
    "from collections import Counter\n",
    "def customers():\n",
    "    l.append(list(map(int, input().split())))\n",
    "l=[]\n",
    "x=int(input())\n",
    "shoesizes=list(map(int, input().split()))\n",
    "n=int(input())\n",
    "for i in range(n):\n",
    "    customers()\n",
    "earnings=0\n",
    "d=Counter(shoesizes)\n",
    "for i, j in l:\n",
    "    if i in d.keys() and d[i]>0:\n",
    "        earnings+=j\n",
    "        d[i]=d[i]-1\n",
    "print(earnings)"
   ]
  },
  {
   "cell_type": "code",
   "execution_count": null,
   "metadata": {},
   "outputs": [],
   "source": [
    "#Python>Collections>DefaultDict Tutorial\n",
    "from collections import defaultdict\n",
    "nm=list(map(int, input().split()))\n",
    "n, m= nm[0], nm[1]\n",
    "d = defaultdict(list)\n",
    "l=[]\n",
    "for i in range(1, n+1):\n",
    "    d[input()].append(i)\n",
    "for j in range(m):\n",
    "    l.append(input())\n",
    "for k in l:\n",
    "    if k in d.keys():\n",
    "        print(*d[k])\n",
    "    else:\n",
    "        print(-1)"
   ]
  },
  {
   "cell_type": "code",
   "execution_count": null,
   "metadata": {},
   "outputs": [],
   "source": [
    "#Python>Collections>Collections.namedtuple()\n",
    "from collections import namedtuple\n",
    "n = int(input())\n",
    "a = input()\n",
    "total = 0\n",
    "Student = namedtuple('Student', a)\n",
    "for _ in range(n):\n",
    "    student = Student(*input().split())\n",
    "    total += int(student.MARKS)\n",
    "print('{:.2f}'.format(total/n))"
   ]
  },
  {
   "cell_type": "code",
   "execution_count": null,
   "metadata": {},
   "outputs": [],
   "source": [
    "#Python>Collections>Collections.OrderedDict()\n",
    "from collections import OrderedDict\n",
    "n=int(input())\n",
    "dic=OrderedDict()\n",
    "for i in range(n):\n",
    "    item, space, number = input().rpartition(\" \")\n",
    "    number= int(number)\n",
    "    if item in dic.keys():\n",
    "        dic[item]+=number\n",
    "    else:\n",
    "        dic[item]=number\n",
    "for i in dic.keys():\n",
    "    print(i, dic[i])"
   ]
  },
  {
   "cell_type": "code",
   "execution_count": null,
   "metadata": {},
   "outputs": [],
   "source": [
    "#Python>Collections>Word Order\n",
    "from collections import OrderedDict, Counter\n",
    "l=[]\n",
    "n=int(input())\n",
    "for i in range(n):\n",
    "    l.append(input())\n",
    "c=Counter(l)\n",
    "print(len(c))\n",
    "print(*c.values())"
   ]
  },
  {
   "cell_type": "code",
   "execution_count": null,
   "metadata": {},
   "outputs": [],
   "source": [
    "#Python>Collections>Collections.deque()\n",
    "from collections import deque\n",
    "d=deque()\n",
    "n=int(input())\n",
    "for i in range(n):\n",
    "    l=input().split()\n",
    "    command=l[0]\n",
    "    if len(l)>1:\n",
    "        e=l[1]\n",
    "    if command == \"append\":\n",
    "        d.append(e)\n",
    "    elif command == \"pop\":\n",
    "        d.pop()\n",
    "    elif command == \"appendleft\":\n",
    "        d.appendleft(e)\n",
    "    elif command == \"popleft\":\n",
    "        d.popleft()\n",
    "print(*d)"
   ]
  },
  {
   "cell_type": "code",
   "execution_count": null,
   "metadata": {},
   "outputs": [],
   "source": [
    "#Python>Collections>Company Order\n",
    "from collections import Counter\n",
    "s=sorted(input())\n",
    "c=Counter(s).most_common(3)\n",
    "for i, j in c:\n",
    "    print(i, j)"
   ]
  },
  {
   "cell_type": "code",
   "execution_count": null,
   "metadata": {},
   "outputs": [],
   "source": [
    "#Python>Collections>Piling up!\n",
    "from collections import deque\n",
    "t=int(input())\n",
    "while t>0:\n",
    "    n=int(input())\n",
    "    l=list(map(int, input().split()))\n",
    "    l=deque(l)\n",
    "    pm=l.pop()\n",
    "    pl=l.popleft()\n",
    "    c=pl if pl>pm else pm\n",
    "    lp=-1\n",
    "    f=False\n",
    "    while(len(l)>0):\n",
    "        if(pl>=pm and pl<=c):\n",
    "            c=pl\n",
    "            pl=l.popleft()\n",
    "            new=pl\n",
    "        elif (pm>pl and pm<=c):\n",
    "            c=pm\n",
    "            pm=l.pop()\n",
    "            new=pm\n",
    "        else:\n",
    "            f=True\n",
    "            break\n",
    "    if f or new>c:\n",
    "        print(\"No\")\n",
    "    else:\n",
    "        print(\"Yes\")\n",
    "    t-=1\n"
   ]
  },
  {
   "cell_type": "code",
   "execution_count": null,
   "metadata": {},
   "outputs": [],
   "source": [
    "#Python>Date and Time>Calender Module\n",
    "import calendar\n",
    "import datetime\n",
    "m, d, y = map(int, input().split())\n",
    "input_date = datetime.date(y, m, d)\n",
    "print(calendar.day_name[input_date.weekday()].upper())"
   ]
  },
  {
   "cell_type": "code",
   "execution_count": null,
   "metadata": {},
   "outputs": [],
   "source": [
    "#Python>Errors and Exceptions>Exceptions\n",
    "t = int(input())\n",
    "if(0<=t<=10):\n",
    "    for i in range(t):\n",
    "        a, b = input().split()\n",
    "        try:\n",
    "            print(int(a)//int(b))\n",
    "        except Exception as e:\n",
    "            print(f\"Error Code: {e}\")\n",
    "else:\n",
    "    print(\"number exceeds bounds\")"
   ]
  },
  {
   "cell_type": "code",
   "execution_count": null,
   "metadata": {},
   "outputs": [],
   "source": [
    "#Python>Built-ins>Zipped\n",
    "n, x = map(int, input().split())\n",
    "scores = []\n",
    "for i in range(x):\n",
    "    scores.append(list(map(float, input().split())))\n",
    "for j in zip(*scores):\n",
    "    print(sum(j) / len(j))"
   ]
  },
  {
   "cell_type": "code",
   "execution_count": null,
   "metadata": {},
   "outputs": [],
   "source": [
    "#Python>Built-ins>ginortS\n",
    "s = input()\n",
    "print(\"\".join(sorted(s,key=lambda x:(x.isdigit() and int(x) % 2 == 0, x.isdigit(), x.isupper(), x.islower(), x, ),)))"
   ]
  },
  {
   "cell_type": "code",
   "execution_count": null,
   "metadata": {},
   "outputs": [],
   "source": [
    "#Python>Python Functionals>Maps and Lambda Function\n",
    "cube = lambda x:x**3\n",
    "def fibonacci(n):\n",
    "    if(n==0):\n",
    "        return []\n",
    "    if(n==1):\n",
    "        return [0]\n",
    "    fib = [0,1]\n",
    "    while len(fib)<n:\n",
    "        newfib=fib[-1]+fib[-2]\n",
    "        fib.append(newfib)\n",
    "    return fib"
   ]
  },
  {
   "cell_type": "code",
   "execution_count": null,
   "metadata": {},
   "outputs": [],
   "source": [
    "#Python>Regex and Parsing>Detect Floating Point Number\n",
    "import re\n",
    "pattern = re.compile(\"^[-+]?\\d*\\.\\d+$\")\n",
    "n = int(input())\n",
    "for i in range(0,n):\n",
    "    nums = input()\n",
    "    print(bool(pattern.match(nums)))"
   ]
  },
  {
   "cell_type": "code",
   "execution_count": null,
   "metadata": {},
   "outputs": [],
   "source": [
    "#Python>Regex and Parsing>Re.split()\n",
    "import re\n",
    "regex_pattern = r\"[.,]+\"\n",
    "print(\"\\n\".join(re.split(regex_pattern, input())))"
   ]
  },
  {
   "cell_type": "code",
   "execution_count": null,
   "metadata": {},
   "outputs": [],
   "source": [
    "#Python>Regex and Parsing>Group(), Groups() & Groupdict()\n",
    "import re\n",
    "s = input()\n",
    "res = re.search(r\"([A-Za-z0-9])\\1\", s)\n",
    "if (bool(res)==False):\n",
    "    print(-1)\n",
    "else:\n",
    "    print(res[1])"
   ]
  },
  {
   "cell_type": "code",
   "execution_count": null,
   "metadata": {},
   "outputs": [],
   "source": [
    "#Python>Regex and Parsing>Re.findall() & Re.finditer()\n",
    "import re\n",
    "s = input()\n",
    "if(0<len(s)<100):\n",
    "    vowels = 'AEIOUaeiou'\n",
    "    consonants = 'QWRTYPSDFGHJKLZXCVBNMqwrtypsdfghjklzxcvbnm'\n",
    "    result = re.findall(r'(?<=[' + consonants + '])([' + vowels + ']{2,})(?=[' + consonants + '])', s, flags=re.I)\n",
    "    if result:\n",
    "        for i in result:\n",
    "            print(i)\n",
    "    else:\n",
    "        print(-1)"
   ]
  },
  {
   "cell_type": "code",
   "execution_count": null,
   "metadata": {},
   "outputs": [],
   "source": [
    "#Python>Regex and Parsing>Re.start() & Re.end()\n",
    "import re\n",
    "s = input().strip()\n",
    "k = input().strip()\n",
    "if(0<len(s)<100 and 0<len(k)<len(s)):\n",
    "    m = False\n",
    "    for i in range(len(s)):\n",
    "        mtch = re.match(k, s[i:])\n",
    "        if mtch:\n",
    "            start = i + mtch.start()\n",
    "            end = i + mtch.end() - 1\n",
    "            print((start, end))\n",
    "            m = True\n",
    "    if m == False:\n",
    "        print(\"(-1, -1)\")"
   ]
  },
  {
   "cell_type": "code",
   "execution_count": null,
   "metadata": {},
   "outputs": [],
   "source": [
    "#Python>Regex and Parsing>Regex Substitution\n",
    "import re\n",
    "def f(match):\n",
    "    symb = match.group(0)\n",
    "    if symb == \"&&\":\n",
    "        return \"and\"\n",
    "    elif symb == \"||\":\n",
    "        return \"or\"\n",
    "   \n",
    "n = int(input().strip())\n",
    "for i in range(n):\n",
    "    print(re.sub(r'(?<= )(&&|\\|\\|)(?= )', f, input()))"
   ]
  },
  {
   "cell_type": "code",
   "execution_count": null,
   "metadata": {},
   "outputs": [],
   "source": [
    "#Python>Regex and Parsing>Validating Roman Numerals\n",
    "import re\n",
    "regex_pattern = r\"^M{0,3}(CM|CD|D?C{0,3})(XC|XL|L?X{0,3})(IX|IV|V?I{0,3})$\"\n",
    "print(str(bool(re.match(regex_pattern, input()))))"
   ]
  },
  {
   "cell_type": "code",
   "execution_count": null,
   "metadata": {},
   "outputs": [],
   "source": [
    "#Python>Regex and Parsing>Validating phone numbers\n",
    "import re\n",
    "n = int(input())\n",
    "for _ in range(n):\n",
    "    phone_number = input()\n",
    "    condition = re.compile(r\"^[7-9]\\d{9}$\")\n",
    "    if bool(re.match(condition, phone_number)):\n",
    "        print(\"YES\")\n",
    "    else:\n",
    "        print(\"NO\")"
   ]
  },
  {
   "cell_type": "code",
   "execution_count": null,
   "metadata": {},
   "outputs": [],
   "source": [
    "#Python>Regex and Parsing>Validating and Parsing Email Addresses\n",
    "import re\n",
    "t = int(input().strip())\n",
    "for i in range(t):\n",
    "    name, email = input().strip().split()\n",
    "    if re.match(r'<[A-Za-z](\\w|-|\\.|_)+@[A-Za-z]+\\.[A-Za-z]{1,3}>', email):\n",
    "        print(\"{} {}\".format(name, email))"
   ]
  },
  {
   "cell_type": "code",
   "execution_count": null,
   "metadata": {},
   "outputs": [],
   "source": [
    "#Python>Regex and Parsing>Hex Colour Code\n",
    "import re\n",
    "n = int(input())\n",
    "for i in range(n):\n",
    "    m = input()\n",
    "    match_result = re.findall(r\"(#[0-9A-Fa-f]{3}|#[0-9A-Fa-f]{6})(?:[;,.)]{1})\", m)\n",
    "    for j in match_result:\n",
    "        if j != \"\":\n",
    "            print(j)"
   ]
  },
  {
   "cell_type": "code",
   "execution_count": null,
   "metadata": {},
   "outputs": [],
   "source": [
    "#Python>Regex and Parsing>Validating UID\n",
    "import re\n",
    "t = int(input().strip())\n",
    "for _ in range(t):\n",
    "    uid = \"\".join(sorted(input()))\n",
    "    if (len(uid) == 10 and re.match(r'', uid) and re.search(r'[A-Z]{2}', uid) and re.search(r'\\d\\d\\d', uid) and not re.search(r'[^a-zA-Z0-9]', uid) and not re.search(r'(.)\\1', uid)):\n",
    "        print(\"Valid\")\n",
    "    else:\n",
    "        print(\"Invalid\")"
   ]
  },
  {
   "cell_type": "code",
   "execution_count": null,
   "metadata": {},
   "outputs": [],
   "source": [
    "#Python>Regex and Parsing>Matrix Script\n",
    "import re\n",
    "n, m = input().strip().split(' ')\n",
    "n, m = [int(n), int(m)]\n",
    "mat = []\n",
    "for i in range(n):\n",
    "    mtix = str(input())\n",
    "    mat.append(mtix)\n",
    "    \n",
    "complete = \"\"\n",
    "for j in zip(*mat):\n",
    "    complete += \"\".join(j)\n",
    "print(re.sub(r'(?<=\\w)([^\\w]+)(?=\\w)', \" \", complete))"
   ]
  },
  {
   "cell_type": "code",
   "execution_count": null,
   "metadata": {},
   "outputs": [],
   "source": [
    "#Python>Closures and Decorators>Standardize Mobile Number Using Decorators\n",
    "def wrapper(f):\n",
    "    def fun(l):\n",
    "        new_nums = []\n",
    "        for c in l:\n",
    "            num = '+91 ' + c[-10:-5] + ' ' + c[-5:]\n",
    "            new_nums.append(num)\n",
    "        f(new_nums)\n",
    "    return fun\n",
    "\n",
    "@wrapper\n",
    "def sort_phone(l):\n",
    "    print(*sorted(l), sep='\\n')\n",
    "\n",
    "if __name__ == '__main__':\n",
    "    l = [input() for _ in range(int(input()))]\n",
    "    sort_phone(l) "
   ]
  },
  {
   "cell_type": "code",
   "execution_count": null,
   "metadata": {},
   "outputs": [],
   "source": [
    "#Python>Closures and Decorators>Decorators 2 - Name Directory\n",
    "import operator\n",
    "\n",
    "def person_lister(f):\n",
    "    def inner(people):\n",
    "        a = map(f, sorted(people, key=lambda x: int(x[2])))\n",
    "        return a\n",
    "    return inner\n",
    "\n",
    "@person_lister\n",
    "def name_format(person):\n",
    "    return (\"Mr. \" if person[3] == \"M\" else \"Ms. \") + person[0] + \" \" + person[1]\n",
    "\n",
    "if __name__ == '__main__':\n",
    "    people = [input().split() for i in range(int(input()))]\n",
    "    print(*name_format(people), sep='\\n')"
   ]
  },
  {
   "cell_type": "code",
   "execution_count": null,
   "metadata": {},
   "outputs": [],
   "source": []
  },
  {
   "cell_type": "code",
   "execution_count": null,
   "metadata": {},
   "outputs": [],
   "source": []
  },
  {
   "cell_type": "code",
   "execution_count": null,
   "metadata": {},
   "outputs": [],
   "source": []
  },
  {
   "cell_type": "code",
   "execution_count": 3,
   "metadata": {},
   "outputs": [],
   "source": [
    "#Python>Numpy>Arrays\n",
    "import numpy\n",
    "def arrays(arr):\n",
    "    arr.reverse()\n",
    "    arrflo=list(map(float, arr))\n",
    "    a=numpy.array(arrflo)\n",
    "    return a\n",
    "    \n",
    "arr = input().strip().split(' ')\n",
    "result = arrays(arr)\n",
    "print(result)"
   ]
  },
  {
   "cell_type": "code",
   "execution_count": null,
   "metadata": {},
   "outputs": [],
   "source": [
    "#Python>Numpy>Shape and Reshape\n",
    "import numpy\n",
    "inp_arr = list(map(int, input().strip().split(' ')))\n",
    "if(len(inp_arr)==9):\n",
    "    arr=numpy.array(inp_arr)\n",
    "    arr.shape=(3,3)\n",
    "    print(arr)"
   ]
  },
  {
   "cell_type": "code",
   "execution_count": null,
   "metadata": {},
   "outputs": [],
   "source": [
    "#Python>Numpy>Transpose and flatten\n",
    "import numpy\n",
    "l=[]\n",
    "n, m = map(int, input().split())\n",
    "for i in range(1,n+1):\n",
    "    r = list(map(int, input().split()))\n",
    "    l.append(r)\n",
    "nump_ar= numpy.array(l)\n",
    "print(numpy.transpose(nump_ar))\n",
    "print(nump_ar.flatten())"
   ]
  },
  {
   "cell_type": "code",
   "execution_count": null,
   "metadata": {},
   "outputs": [],
   "source": [
    "#Python>Numpy>Concatenate\n",
    "import numpy\n",
    "arr1 = []\n",
    "arr2 = []\n",
    "n, m, p = map(int, input().split())\n",
    "for i in range(n):\n",
    "    rows1 = list(map(int, input().split()))\n",
    "    arr1.append(rows1)\n",
    "for j in range(m):\n",
    "    rows2 = list(map(int, input().split()))\n",
    "    arr2.append(rows2)\n",
    "narr1 = numpy.array(arr1)\n",
    "narr2 = numpy.array(arr2)\n",
    "print(numpy.concatenate((narr1, narr2)))"
   ]
  },
  {
   "cell_type": "code",
   "execution_count": null,
   "metadata": {},
   "outputs": [],
   "source": [
    "#Python>Numpy>Zeros and Ones\n",
    "import numpy\n",
    "dim = tuple(list(map(int, input().split())))\n",
    "print (numpy.zeros(dim, dtype=int))\n",
    "print (numpy.ones(dim, dtype=int))"
   ]
  },
  {
   "cell_type": "code",
   "execution_count": null,
   "metadata": {},
   "outputs": [],
   "source": [
    "#Python>Numpy>Eye and Identity\n",
    "import numpy\n",
    "numpy.set_printoptions(legacy='1.13')\n",
    "n,m = map(int, input().split())\n",
    "print(numpy.eye(n,m))"
   ]
  },
  {
   "cell_type": "code",
   "execution_count": null,
   "metadata": {},
   "outputs": [],
   "source": [
    "#Python>Numpy>Array Mathematics\n",
    "import numpy\n",
    "n,m = map(int, input().split())\n",
    "a=[]\n",
    "b=[]\n",
    "for i in range(1,n+1):\n",
    "    r1=list(map(int, input().split()))\n",
    "    a.append(r1)\n",
    "for j in range(1,n+1):\n",
    "    r2 = list(map(int, input().split()))\n",
    "    b.append(r2)\n",
    "nar1 = numpy.array(a)\n",
    "nar2 = numpy.array(b)\n",
    "print(nar1+nar2)\n",
    "print(nar1-nar2)\n",
    "print(nar1*nar2)\n",
    "print(nar1//nar2)\n",
    "print(nar1%nar2)\n",
    "print(nar1**nar2)"
   ]
  },
  {
   "cell_type": "code",
   "execution_count": null,
   "metadata": {},
   "outputs": [],
   "source": [
    "#Python>Numpy>Floor, ceil and rint\n",
    "import numpy\n",
    "numpy.set_printoptions(legacy='1.13')\n",
    "a=list(map(float,input().split()))\n",
    "my_array= numpy.array(a)\n",
    "print(numpy.floor(my_array))\n",
    "print(numpy.ceil(my_array))\n",
    "print(numpy.rint(my_array))"
   ]
  },
  {
   "cell_type": "code",
   "execution_count": null,
   "metadata": {},
   "outputs": [],
   "source": [
    "#Python>Numpy>Sum and prod\n",
    "import numpy\n",
    "lis= []\n",
    "n,m = map(int, input().split())\n",
    "for i in range(1,n+1):\n",
    "    rows= list(map(int, input().split()))\n",
    "    lis.append(rows)\n",
    "narr= numpy.array(lis)\n",
    "sum=numpy.sum(lis, axis=0)\n",
    "print(numpy.prod(sum))"
   ]
  },
  {
   "cell_type": "code",
   "execution_count": null,
   "metadata": {},
   "outputs": [],
   "source": [
    "#Python>Numpy>Min and Max\n",
    "import numpy\n",
    "lis= []\n",
    "n,m = map(int, input().split())\n",
    "for i in range(1,n+1):\n",
    "    rows= list(map(int, input().split()))\n",
    "    lis.append(rows)\n",
    "narr= numpy.array(lis)\n",
    "min =numpy.min(lis, axis=1)\n",
    "print(numpy.max(min))"
   ]
  },
  {
   "cell_type": "code",
   "execution_count": null,
   "metadata": {},
   "outputs": [],
   "source": [
    "#Python>Numpy>Mean, Var and Std\n",
    "import numpy\n",
    "lis= []\n",
    "n,m = map(int, input().split())\n",
    "for i in range(1,n+1):\n",
    "    rows= list(map(int, input().split()))\n",
    "    lis.append(rows)\n",
    "narr= numpy.array(lis)\n",
    "print(numpy.mean(narr, axis=1))\n",
    "print(numpy.var(narr, axis=0))\n",
    "print(round(numpy.std(narr, axis=None), 11))"
   ]
  },
  {
   "cell_type": "code",
   "execution_count": null,
   "metadata": {},
   "outputs": [],
   "source": [
    "#Python>Numpy>Dot and cross\n",
    "import numpy\n",
    "n = int(input())\n",
    "m1= []\n",
    "m2=[]\n",
    "for i in range(1,n+1):\n",
    "    rows1= list(map(int, input().split()))\n",
    "    m1.append(rows1)\n",
    "narr1= numpy.array(m1)\n",
    "for j in range(1,n+1):\n",
    "    rows2= list(map(int, input().split()))\n",
    "    m2.append(rows2)\n",
    "narr2= numpy.array(m2)\n",
    "print(numpy.dot(narr1,narr2))"
   ]
  },
  {
   "cell_type": "code",
   "execution_count": null,
   "metadata": {},
   "outputs": [],
   "source": [
    "#Python>Numpy>Inner and Outer\n",
    "import numpy\n",
    "a = numpy.array(list(map(int, input().split())))\n",
    "b = numpy.array(list(map(int, input().split())))\n",
    "print(numpy.inner(a,b))\n",
    "print(numpy.outer(a,b))"
   ]
  },
  {
   "cell_type": "code",
   "execution_count": null,
   "metadata": {},
   "outputs": [],
   "source": [
    "#Python>Numpy>Polynomials\n",
    "import numpy\n",
    "p = numpy.array(list(map(float, input().split())))\n",
    "x= float(input())\n",
    "print(numpy.polyval(p,x))"
   ]
  },
  {
   "cell_type": "code",
   "execution_count": null,
   "metadata": {},
   "outputs": [],
   "source": [
    "#Python>Numpy>Linear Algebra\n",
    "import numpy\n",
    "l=[]\n",
    "n=int(input())\n",
    "for i in range(1,n+1):\n",
    "    rows=list(map(float, input().split()))\n",
    "    l.append(rows)\n",
    "narr=numpy.array(l)\n",
    "print(round(numpy.linalg.det(narr),2))"
   ]
  },
  {
   "cell_type": "code",
   "execution_count": null,
   "metadata": {},
   "outputs": [],
   "source": [
    "#Python>XML>XML1 - Find the score\n",
    "import sys\n",
    "import xml.etree.ElementTree as etree\n",
    "\n",
    "def get_attr_number(node):\n",
    "    s = len(node.attrib.keys())\n",
    "    for i in node:\n",
    "        if i:\n",
    "            s += get_attr_number(i)\n",
    "        else:\n",
    "            s += len(i.attrib.keys())\n",
    "    return s\n",
    "\n",
    "if __name__ == '__main__':\n",
    "    sys.stdin.readline()\n",
    "    xml = sys.stdin.read()\n",
    "    tree = etree.ElementTree(etree.fromstring(xml))\n",
    "    root = tree.getroot()\n",
    "    print(get_attr_number(root))"
   ]
  },
  {
   "cell_type": "code",
   "execution_count": null,
   "metadata": {},
   "outputs": [],
   "source": [
    "#Python>XML>XML2-Find the Maximum Depth\n",
    "import xml.etree.ElementTree as etree\n",
    "\n",
    "maxdepth = 0\n",
    "def depth(elem, level):\n",
    "    global maxdepth\n",
    "    if (level == maxdepth):\n",
    "        maxdepth += 1\n",
    "    for j in elem:\n",
    "        depth(j, level+1)\n",
    "\n",
    "if __name__ == '__main__':\n",
    "    n = int(input())\n",
    "    xml = \"\"\n",
    "    for i in range(n):\n",
    "        xml =  xml + input() + \"\\n\"\n",
    "    tree = etree.ElementTree(etree.fromstring(xml))\n",
    "    depth(tree.getroot(), -1)\n",
    "    print(maxdepth)"
   ]
  },
  {
   "cell_type": "code",
   "execution_count": null,
   "metadata": {},
   "outputs": [],
   "source": [
    "#Prepare>Algorithms>Implementation>Number Line Jumps\n",
    "\n",
    "import math\n",
    "import os\n",
    "import random\n",
    "import re\n",
    "import sys\n",
    "\n",
    "# Complete the 'kangaroo' function below.\n",
    "# The function is expected to return a STRING.\n",
    "# The function accepts following parameters:\n",
    "#  1. INTEGER x1\n",
    "#  2. INTEGER v1\n",
    "#  3. INTEGER x2\n",
    "#  4. INTEGER v2\n",
    "\n",
    "def kangaroo(x1, v1, x2, v2):\n",
    "    if( (v2<v1) and (x1-x2)%(v2-v1)==0):\n",
    "        return \"YES\"\n",
    "    else:\n",
    "        return \"NO\"\n",
    "\n",
    "if __name__ == '__main__':\n",
    "    fptr = open(os.environ['OUTPUT_PATH'], 'w')\n",
    "\n",
    "    first_multiple_input = input().rstrip().split()\n",
    "\n",
    "    x1 = int(first_multiple_input[0])\n",
    "\n",
    "    v1 = int(first_multiple_input[1])\n",
    "\n",
    "    x2 = int(first_multiple_input[2])\n",
    "\n",
    "    v2 = int(first_multiple_input[3])\n",
    "\n",
    "    result = kangaroo(x1, v1, x2, v2)\n",
    "\n",
    "    fptr.write(result + '\\n')\n",
    "\n",
    "    fptr.close()\n"
   ]
  },
  {
   "cell_type": "code",
   "execution_count": null,
   "metadata": {},
   "outputs": [],
   "source": [
    "#Prepare>Algorithms>Implementation>Viral Advertising\n",
    "\n",
    "import math\n",
    "import os\n",
    "import random\n",
    "import re\n",
    "import sys\n",
    "\n",
    "# Complete the 'viralAdvertising' function below.\n",
    "# The function is expected to return an INTEGER.\n",
    "# The function accepts INTEGER n as parameter.\n",
    "\n",
    "def viralAdvertising(n):\n",
    "    l=2\n",
    "    c=2\n",
    "    for i in range(n - 1):\n",
    "        l= int(3*l/2)\n",
    "        c += l\n",
    "    return c\n",
    "    \n",
    "\n",
    "if __name__ == '__main__':\n",
    "    fptr = open(os.environ['OUTPUT_PATH'], 'w')\n",
    "\n",
    "    n = int(input().strip())\n",
    "\n",
    "    result = viralAdvertising(n)\n",
    "\n",
    "    fptr.write(str(result) + '\\n')\n",
    "\n",
    "    fptr.close()\n"
   ]
  },
  {
   "cell_type": "code",
   "execution_count": null,
   "metadata": {},
   "outputs": [],
   "source": [
    "#Algorithms>Sorting>Insertion Sort - Part 1\n",
    "import math\n",
    "import os\n",
    "import random\n",
    "import re\n",
    "import sys\n",
    "\n",
    "# Complete the 'insertionSort1' function below.\n",
    "#\n",
    "# The function accepts following parameters:\n",
    "#  1. INTEGER n\n",
    "#  2. INTEGER_ARRAY arr\n",
    "\n",
    "def insertionSort1(n, arr):\n",
    "    l = arr[-1]\n",
    "    i = n - 2\n",
    "\n",
    "    while i >= 0 and arr[i] > l:\n",
    "        arr[i + 1] = arr[i]\n",
    "        i -= 1\n",
    "        print(' '.join(map(str, arr)))\n",
    "\n",
    "    arr[i + 1] = l\n",
    "    print(' '.join(map(str, arr)))\n",
    "\n",
    "if __name__ == '__main__':\n",
    "    n = int(input().strip())\n",
    "\n",
    "    arr = list(map(int, input().rstrip().split()))\n",
    "\n",
    "    insertionSort1(n, arr)"
   ]
  },
  {
   "cell_type": "code",
   "execution_count": null,
   "metadata": {},
   "outputs": [],
   "source": [
    "#Algorithms>Sorting>Insertion Sort - Part 2\n",
    "import math\n",
    "import os\n",
    "import random\n",
    "import re\n",
    "import sys\n",
    "\n",
    "#\n",
    "# Complete the 'insertionSort2' function below.\n",
    "#\n",
    "# The function accepts following parameters:\n",
    "#  1. INTEGER n\n",
    "#  2. INTEGER_ARRAY arr\n",
    "#\n",
    "\n",
    "def insertionSort2(n, arr):\n",
    "    for i in range(1, len(arr)):\n",
    "        temp = arr[i]\n",
    "        j = i\n",
    "        while j > 0 and temp < ar[j-1]:\n",
    "            ar[j] = ar[j-1]\n",
    "            j -= 1\n",
    "        ar[j] = temp\n",
    "        print(' '.join(map(str, ar)))\n",
    "    # Write your code here\n",
    "\n",
    "if __name__ == '__main__':\n",
    "    n = int(input().strip())\n",
    "\n",
    "    arr = list(map(int, input().rstrip().split()))\n",
    "\n",
    "    insertionSort2(n, arr)"
   ]
  },
  {
   "cell_type": "code",
   "execution_count": null,
   "metadata": {},
   "outputs": [],
   "source": [
    "#Algorithms>Recursion>Recursive Digit Sum\n",
    "import math\n",
    "import os\n",
    "import random\n",
    "import re\n",
    "import sys\n",
    "\n",
    "#\n",
    "# Complete the 'superDigit' function below.\n",
    "#\n",
    "# The function is expected to return an INTEGER.\n",
    "# The function accepts following parameters:\n",
    "#  1. STRING n\n",
    "#  2. INTEGER k\n",
    "#\n",
    "\n",
    "def superDigit(n, k):\n",
    "    \n",
    "    n = sum([int(n[i]) for i in range(len(n))])\n",
    "    n=n*k\n",
    "    if n > 9:\n",
    "        return superDigit(str(n), 1)\n",
    "    else:\n",
    "        return n\n",
    "    \n",
    "\n",
    "if __name__ == '__main__':\n",
    "    fptr = open(os.environ['OUTPUT_PATH'], 'w')\n",
    "\n",
    "    first_multiple_input = input().rstrip().split()\n",
    "\n",
    "    n = first_multiple_input[0]\n",
    "\n",
    "    k = int(first_multiple_input[1])\n",
    "\n",
    "    result = superDigit(n, k)\n",
    "\n",
    "    fptr.write(str(result) + '\\n')\n",
    "\n",
    "    fptr.close()"
   ]
  },
  {
   "cell_type": "code",
   "execution_count": null,
   "metadata": {},
   "outputs": [],
   "source": [
    "#Algorithms>Warmup>Birthday Cake Candles\n",
    "import math\n",
    "import os\n",
    "import random\n",
    "import re\n",
    "import sys\n",
    "\n",
    "#\n",
    "# Complete the 'birthdayCakeCandles' function below.\n",
    "#\n",
    "# The function is expected to return an INTEGER.\n",
    "# The function accepts INTEGER_ARRAY candles as parameter.\n",
    "#\n",
    "\n",
    "def birthdayCakeCandles(candles):\n",
    "    n= len(candles)\n",
    "    maximum=0\n",
    "    count = 0\n",
    "    for i in range(n):\n",
    "        if candles[i]>maximum:\n",
    "            maximum=candles[i]\n",
    "            count=1\n",
    "        elif candles[i]==maximum:\n",
    "            count+=1\n",
    "    return candles.count(max(candles))\n",
    "    # Write your code here\n",
    "\n",
    "if __name__ == '__main__':\n",
    "    fptr = open(os.environ['OUTPUT_PATH'], 'w')\n",
    "\n",
    "    candles_count = int(input().strip())\n",
    "\n",
    "    candles = list(map(int, input().rstrip().split()))\n",
    "\n",
    "    result = birthdayCakeCandles(candles)\n",
    "\n",
    "    fptr.write(str(result) + '\\n')\n",
    "\n",
    "    fptr.close()"
   ]
  }
 ],
 "metadata": {
  "kernelspec": {
   "display_name": "Python 3",
   "language": "python",
   "name": "python3"
  },
  "language_info": {
   "codemirror_mode": {
    "name": "ipython",
    "version": 3
   },
   "file_extension": ".py",
   "mimetype": "text/x-python",
   "name": "python",
   "nbconvert_exporter": "python",
   "pygments_lexer": "ipython3",
   "version": "3.11.3"
  }
 },
 "nbformat": 4,
 "nbformat_minor": 2
}
